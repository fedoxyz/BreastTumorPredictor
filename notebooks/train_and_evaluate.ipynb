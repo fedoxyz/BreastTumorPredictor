{
 "cells": [
  {
   "cell_type": "markdown",
   "metadata": {},
   "source": [
    "# Training and Evaluation\n",
    "This notebook trains the model and evaluates it on the test dataset."
   ]
  },
  {
   "cell_type": "code",
   "execution_count": 1,
   "metadata": {},
   "outputs": [],
   "source": [
    "import sys\n",
    "import os\n",
    "sys.path.append(os.path.abspath('../src'))\n",
    "\n",
    "import matplotlib.pyplot as plt\n",
    "import seaborn as sns\n",
    "from sklearn.metrics import confusion_matrix, classification_report\n",
    "import numpy as np\n",
    "from tqdm.notebook import tqdm\n",
    "import torch\n",
    "from torch.utils.data import DataLoader\n",
    "from inference import TumorPredictor\n",
    "from train import train_model\n",
    "from preprocessor import ImageDataset\n",
    "import yaml"
   ]
  },
  {
   "cell_type": "code",
   "execution_count": 2,
   "metadata": {},
   "outputs": [],
   "source": [
    "# Load configuration\n",
    "with open(\"../configs/config.yaml\", 'r') as f:\n",
    "    config = yaml.safe_load(f)\n"
   ]
  },
  {
   "cell_type": "code",
   "execution_count": 3,
   "metadata": {},
   "outputs": [
    {
     "name": "stdout",
     "output_type": "stream",
     "text": [
      "Starting training...\n"
     ]
    },
    {
     "ename": "AttributeError",
     "evalue": "'ImageDataset' object has no attribute 'image_dir'",
     "output_type": "error",
     "traceback": [
      "\u001b[0;31m---------------------------------------------------------------------------\u001b[0m",
      "\u001b[0;31mAttributeError\u001b[0m                            Traceback (most recent call last)",
      "\u001b[1;32m/home/xi8t/WORK/BreastTumorSegmentation/notebooks/train_and_evaluate.ipynb Cell 4\u001b[0m line \u001b[0;36m3\n\u001b[1;32m      <a href='vscode-notebook-cell:/home/xi8t/WORK/BreastTumorSegmentation/notebooks/train_and_evaluate.ipynb#W3sZmlsZQ%3D%3D?line=0'>1</a>\u001b[0m \u001b[39m# 1. Training\u001b[39;00m\n\u001b[1;32m      <a href='vscode-notebook-cell:/home/xi8t/WORK/BreastTumorSegmentation/notebooks/train_and_evaluate.ipynb#W3sZmlsZQ%3D%3D?line=1'>2</a>\u001b[0m \u001b[39mprint\u001b[39m(\u001b[39m\"\u001b[39m\u001b[39mStarting training...\u001b[39m\u001b[39m\"\u001b[39m)\n\u001b[0;32m----> <a href='vscode-notebook-cell:/home/xi8t/WORK/BreastTumorSegmentation/notebooks/train_and_evaluate.ipynb#W3sZmlsZQ%3D%3D?line=2'>3</a>\u001b[0m train_model(config)\n",
      "File \u001b[0;32m~/WORK/BreastTumorSegmentation/src/train.py:52\u001b[0m, in \u001b[0;36mtrain_model\u001b[0;34m(config)\u001b[0m\n\u001b[1;32m     46\u001b[0m dataset \u001b[39m=\u001b[39m ImageDataset(\n\u001b[1;32m     47\u001b[0m     data_dir\u001b[39m=\u001b[39mconfig[\u001b[39m\"\u001b[39m\u001b[39mdata\u001b[39m\u001b[39m\"\u001b[39m][\u001b[39m\"\u001b[39m\u001b[39mdir\u001b[39m\u001b[39m\"\u001b[39m],\n\u001b[1;32m     48\u001b[0m     config\u001b[39m=\u001b[39mconfig\n\u001b[1;32m     49\u001b[0m )\n\u001b[1;32m     51\u001b[0m \u001b[39m# Split dataset\u001b[39;00m\n\u001b[0;32m---> 52\u001b[0m train_idx, val_idx \u001b[39m=\u001b[39m split_dataset(dataset)\n\u001b[1;32m     54\u001b[0m \u001b[39m# Create data loaders\u001b[39;00m\n\u001b[1;32m     55\u001b[0m train_dataset \u001b[39m=\u001b[39m torch\u001b[39m.\u001b[39mutils\u001b[39m.\u001b[39mdata\u001b[39m.\u001b[39mSubset(dataset, train_idx)\n",
      "File \u001b[0;32m~/WORK/BreastTumorSegmentation/src/train.py:32\u001b[0m, in \u001b[0;36msplit_dataset\u001b[0;34m(dataset, test_size)\u001b[0m\n\u001b[1;32m     30\u001b[0m \u001b[39mdef\u001b[39;00m \u001b[39msplit_dataset\u001b[39m(dataset, test_size\u001b[39m=\u001b[39m\u001b[39m0.2\u001b[39m):\n\u001b[1;32m     31\u001b[0m \u001b[39m    \u001b[39m\u001b[39m\"\"\"Split dataset indices into train and validation sets.\"\"\"\u001b[39;00m\n\u001b[0;32m---> 32\u001b[0m     labels \u001b[39m=\u001b[39m [label \u001b[39mfor\u001b[39;00m _, _, label \u001b[39min\u001b[39;00m dataset]  \u001b[39m# Assuming dataset is a list of tuples (image, mask, label)\u001b[39;00m\n\u001b[1;32m     33\u001b[0m     train_idx, val_idx \u001b[39m=\u001b[39m train_test_split(\n\u001b[1;32m     34\u001b[0m         \u001b[39mrange\u001b[39m(\u001b[39mlen\u001b[39m(dataset)), \n\u001b[1;32m     35\u001b[0m         test_size\u001b[39m=\u001b[39mtest_size, \n\u001b[1;32m     36\u001b[0m         stratify\u001b[39m=\u001b[39mlabels,\n\u001b[1;32m     37\u001b[0m         random_state\u001b[39m=\u001b[39m\u001b[39m42\u001b[39m\n\u001b[1;32m     38\u001b[0m     )\n\u001b[1;32m     39\u001b[0m     \u001b[39mreturn\u001b[39;00m train_idx, val_idx\n",
      "File \u001b[0;32m~/WORK/BreastTumorSegmentation/src/preprocessor.py:24\u001b[0m, in \u001b[0;36mImageDataset.__getitem__\u001b[0;34m(self, idx)\u001b[0m\n\u001b[1;32m     23\u001b[0m \u001b[39mdef\u001b[39;00m \u001b[39m__getitem__\u001b[39m(\u001b[39mself\u001b[39m, idx):\n\u001b[0;32m---> 24\u001b[0m     image_path \u001b[39m=\u001b[39m os\u001b[39m.\u001b[39mpath\u001b[39m.\u001b[39mjoin(\u001b[39mself\u001b[39;49m\u001b[39m.\u001b[39;49mimage_dir, \u001b[39mself\u001b[39m\u001b[39m.\u001b[39mimage_files[idx])\n\u001b[1;32m     25\u001b[0m     mask_path \u001b[39m=\u001b[39m os\u001b[39m.\u001b[39mpath\u001b[39m.\u001b[39mjoin(\u001b[39mself\u001b[39m\u001b[39m.\u001b[39mmask_dir, \u001b[39mself\u001b[39m\u001b[39m.\u001b[39mimage_files[idx]\u001b[39m.\u001b[39mreplace(\u001b[39m'\u001b[39m\u001b[39m.jpg\u001b[39m\u001b[39m'\u001b[39m, \u001b[39m'\u001b[39m\u001b[39m.png\u001b[39m\u001b[39m'\u001b[39m))\n\u001b[1;32m     27\u001b[0m     image \u001b[39m=\u001b[39m cv2\u001b[39m.\u001b[39mimread(image_path)[\u001b[39m.\u001b[39m\u001b[39m.\u001b[39m\u001b[39m.\u001b[39m, ::\u001b[39m-\u001b[39m\u001b[39m1\u001b[39m]  \u001b[39m# Convert BGR to RGB\u001b[39;00m\n",
      "\u001b[0;31mAttributeError\u001b[0m: 'ImageDataset' object has no attribute 'image_dir'"
     ]
    }
   ],
   "source": [
    "# 1. Training\n",
    "print(\"Starting training...\")\n",
    "train_model(config)\n"
   ]
  },
  {
   "cell_type": "code",
   "execution_count": null,
   "metadata": {},
   "outputs": [],
   "source": [
    "# 2. Evaluation\n",
    "def evaluate_model(predictor, data_loader):\n",
    "    true_classes = []\n",
    "    pred_classes = []\n",
    "    seg_ious = []\n",
    "    \n",
    "    for images, masks, labels in tqdm(data_loader, desc=\"Evaluating\"):\n",
    "        batch_results = predictor.predict_batch(images)\n",
    "        \n",
    "        # Collect classification results\n",
    "        true_classes.extend(labels.numpy())\n",
    "        pred_classes.extend([r['class_idx'] for r in batch_results])\n",
    "        \n",
    "        # Calculate IoU for segmentation\n",
    "        for mask, result in zip(masks, batch_results):\n",
    "            intersection = np.logical_and(mask[0], result['segmentation_mask'])\n",
    "            union = np.logical_or(mask[0], result['segmentation_mask'])\n",
    "            iou = np.sum(intersection) / (np.sum(union) + 1e-10)\n",
    "            seg_ious.append(iou)\n",
    "    \n",
    "    return true_classes, pred_classes, seg_ious\n"
   ]
  },
  {
   "cell_type": "code",
   "execution_count": null,
   "metadata": {},
   "outputs": [],
   "source": [
    "# Create test dataset and loader\n",
    "test_dataset = ImageDataset(config[\"data\"][\"test_dir\"], config)\n",
    "test_loader = DataLoader(test_dataset, batch_size=16, shuffle=False)\n"
   ]
  },
  {
   "cell_type": "code",
   "execution_count": null,
   "metadata": {},
   "outputs": [],
   "source": [
    "# Initialize predictor\n",
    "predictor = TumorPredictor(config_path=\"configs/config.yaml\")\n"
   ]
  },
  {
   "cell_type": "code",
   "execution_count": null,
   "metadata": {},
   "outputs": [],
   "source": [
    "# Evaluate\n",
    "true_classes, pred_classes, seg_ious = evaluate_model(predictor, test_loader)\n"
   ]
  },
  {
   "cell_type": "code",
   "execution_count": null,
   "metadata": {},
   "outputs": [],
   "source": [
    "# 3. Visualizations\n",
    "\n",
    "# Classification Results\n",
    "plt.figure(figsize=(12, 5))\n",
    "\n",
    "# Confusion Matrix\n",
    "plt.subplot(121)\n",
    "cm = confusion_matrix(true_classes, pred_classes)\n",
    "sns.heatmap(cm, annot=True, fmt='d', cmap='Blues',\n",
    "            xticklabels=predictor.class_labels,\n",
    "            yticklabels=predictor.class_labels)\n",
    "plt.title('Confusion Matrix')\n",
    "plt.xlabel('Predicted')\n",
    "plt.ylabel('True')\n",
    "\n",
    "# IoU Distribution\n",
    "plt.subplot(122)\n",
    "plt.hist(seg_ious, bins=20)\n",
    "plt.title('Segmentation IoU Distribution')\n",
    "plt.xlabel('IoU')\n",
    "plt.ylabel('Count')\n",
    "plt.tight_layout()\n",
    "plt.show()\n"
   ]
  },
  {
   "cell_type": "code",
   "execution_count": null,
   "metadata": {},
   "outputs": [],
   "source": [
    "# Print Classification Report\n",
    "print(\"\\nClassification Report:\")\n",
    "print(classification_report(true_classes, pred_classes, \n",
    "                          target_names=predictor.class_labels))\n",
    "\n",
    "# Print Average IoU\n",
    "print(f\"\\nAverage Segmentation IoU: {np.mean(seg_ious):.4f}\")\n"
   ]
  },
  {
   "cell_type": "code",
   "execution_count": null,
   "metadata": {},
   "outputs": [],
   "source": [
    "# 4. Example Predictions Visualization\n",
    "def visualize_prediction(image, result):\n",
    "    plt.figure(figsize=(15, 5))\n",
    "    \n",
    "    # Original Image\n",
    "    plt.subplot(131)\n",
    "    plt.imshow(image)\n",
    "    plt.title('Original Image')\n",
    "    plt.axis('off')\n",
    "    \n",
    "    # Segmentation Mask\n",
    "    plt.subplot(132)\n",
    "    plt.imshow(result['segmentation_mask'], cmap='gray')\n",
    "    plt.title('Segmentation Mask')\n",
    "    plt.axis('off')\n",
    "    \n",
    "    # Class Probabilities\n",
    "    plt.subplot(133)\n",
    "    sns.barplot(x=predictor.class_labels, \n",
    "                y=result['class_probabilities'])\n",
    "    plt.title('Class Probabilities')\n",
    "    plt.xticks(rotation=45)\n",
    "    plt.tight_layout()\n",
    "    plt.show()\n"
   ]
  },
  {
   "cell_type": "code",
   "execution_count": null,
   "metadata": {},
   "outputs": [],
   "source": [
    "# Visualize some example predictions\n",
    "test_images = [test_dataset[i][0] for i in range(5)]  # Get 5 test images\n",
    "results = predictor.predict_batch(test_images)\n",
    "\n",
    "for image, result in zip(test_images, results):\n",
    "    visualize_prediction(image, result)\n"
   ]
  }
 ],
 "metadata": {
  "kernelspec": {
   "display_name": "Python 3",
   "language": "python",
   "name": "python3"
  },
  "language_info": {
   "codemirror_mode": {
    "name": "ipython",
    "version": 3
   },
   "file_extension": ".py",
   "mimetype": "text/x-python",
   "name": "python",
   "nbconvert_exporter": "python",
   "pygments_lexer": "ipython3",
   "version": "3.8.5"
  }
 },
 "nbformat": 4,
 "nbformat_minor": 4
}
